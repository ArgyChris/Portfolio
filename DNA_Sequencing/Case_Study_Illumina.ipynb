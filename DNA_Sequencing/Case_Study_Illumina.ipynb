{
 "cells": [
  {
   "cell_type": "code",
   "execution_count": 2,
   "metadata": {},
   "outputs": [],
   "source": [
    "#Data Reading\n",
    "\n",
    "#Import important libraries to read and process the data\n",
    "import numpy as np\n",
    "import pandas as pd\n",
    "\n",
    "#Read the .dat file\n",
    "seqInput = pd.read_table('SequencingData 300718.dat')\n",
    "\n",
    "#Save the file in a .csv file to make its inspection more easier using a tab delimeter \n",
    "seqInput.to_csv('seqInputToRead.csv', sep='\\t')\n",
    "\n"
   ]
  },
  {
   "cell_type": "code",
   "execution_count": 3,
   "metadata": {},
   "outputs": [],
   "source": [
    "#Question 1:\n",
    "#Isolate the important field: the predictions and the observations\n",
    "predictionSeqInput = seqInput.iloc[4:8,3:73]\n",
    "observedSeqInput = seqInput.iloc[9:13,3:73]\n",
    "\n",
    "#Take the values from the dataframe\n",
    "arrayPredictionSeqInput = predictionSeqInput.values\n",
    "arrayObservedSeqInput = observedSeqInput.values\n",
    "\n",
    "#Defintion of important functions\n",
    "def MinMaxNormalization(inputSequence):\n",
    "    #Normalizes an input sequence along the cycles to the range 1.0-0.0\n",
    "    outputSequence = np.zeros(inputSequence.shape)\n",
    "    for i in range(inputSequence.shape[1]):\n",
    "        vector = inputSequence[:,i]\n",
    "        vector2 = pd.to_numeric(vector)\n",
    "        minValue = min(vector2).astype(float)\n",
    "        maxValue = max(vector2).astype(float)\n",
    "        outputSequence[:,i] = (vector2.astype(float)-minValue)/(maxValue-minValue)\n",
    "    return outputSequence\n",
    "\n",
    "def reduceSequence(inputSequence):    \n",
    "    #Finds the index location of the maximum per cycle\n",
    "    index = np.argmax(inputSequence, axis=0)\n",
    "    return index\n",
    "\n",
    "def computeHammingDistance(inputSequence_1, inputSequence_2):\n",
    "    #Computes the Hamming distane between two input sequences\n",
    "    return sum(el1 != el2 for el1, el2 in zip(inputSequence_1, inputSequence_2)) \n",
    "\n",
    "#Normalize the sequences with respect to the cycles\n",
    "normArrayObservedSeqInput = MinMaxNormalization(arrayObservedSeqInput)\n",
    "normArrayPredictionSeqInput = MinMaxNormalization(arrayPredictionSeqInput)\n",
    "\n",
    "#Locate which nucleotide gave the maximum intensity per cycle\n",
    "cleanArrayObservedSeqInput = reduceSequence(normArrayObservedSeqInput)\n",
    "cleanArrayPredictionSeqInput = reduceSequence(normArrayPredictionSeqInput)\n",
    "\n",
    "#Compute the Hamming distance between the cleaned observed and predicted sequences\n",
    "hammingDist = computeHammingDistance(cleanArrayObservedSeqInput, cleanArrayPredictionSeqInput)"
   ]
  },
  {
   "cell_type": "code",
   "execution_count": 4,
   "metadata": {},
   "outputs": [
    {
     "data": {
      "text/plain": [
       "0"
      ]
     },
     "execution_count": 4,
     "metadata": {},
     "output_type": "execute_result"
    }
   ],
   "source": [
    "hammingDist"
   ]
  },
  {
   "cell_type": "code",
   "execution_count": 5,
   "metadata": {},
   "outputs": [
    {
     "name": "stdout",
     "output_type": "stream",
     "text": [
      "[0.17139728]\n"
     ]
    }
   ],
   "source": [
    "#Question 3:\n",
    "#Sort the normalized intensity of the observation with respect to the cycle\n",
    "sortedNormArrayObservedSeqInput = np.sort(normArrayObservedSeqInput, axis=0)\n",
    "\n",
    "#Compute the correlation between the highest and the second highest intensity per cycle\n",
    "corrSecondVsFirst = np.correlate(sortedNormArrayObservedSeqInput[2,:], sortedNormArrayObservedSeqInput[3,:])/70\n",
    "print(corrSecondVsFirst)"
   ]
  },
  {
   "cell_type": "code",
   "execution_count": 6,
   "metadata": {},
   "outputs": [
    {
     "name": "stdout",
     "output_type": "stream",
     "text": [
      "[0.05077559]\n"
     ]
    }
   ],
   "source": [
    "#Compute the correlation between the highest and the third highest intensity per cycle\n",
    "corrThirdVsFirst = np.correlate(sortedNormArrayObservedSeqInput[1,:], sortedNormArrayObservedSeqInput[3,:])/70\n",
    "print(corrThirdVsFirst)"
   ]
  },
  {
   "cell_type": "code",
   "execution_count": 7,
   "metadata": {},
   "outputs": [
    {
     "name": "stdout",
     "output_type": "stream",
     "text": [
      "[0.]\n"
     ]
    }
   ],
   "source": [
    "#Compute the correlation between the highest and the fourth highest intensity per cycle\n",
    "corrFourthVsFirst = np.correlate(sortedNormArrayObservedSeqInput[0,:], sortedNormArrayObservedSeqInput[3,:])/70\n",
    "print(corrFourthVsFirst)"
   ]
  },
  {
   "cell_type": "code",
   "execution_count": 8,
   "metadata": {},
   "outputs": [],
   "source": [
    "def forwardDiff(inputSequence):\n",
    "    #Compute the finite difference (gradient) to measure when we have transitions in the observations\n",
    "    outputSequence = np.zeros(len(inputSequence)-1)\n",
    "    for i in range(len(inputSequence)-1):\n",
    "        val1 = inputSequence[i]\n",
    "        val2 = inputSequence[i+1]\n",
    "        outputSequence[i] = val2-val1\n",
    "    return outputSequence\n",
    "\n",
    "#Find the locations where we have transitions in the observation of a nucleotide per cycle\n",
    "diffSequence = forwardDiff(cleanArrayObservedSeqInput)\n",
    "#Append the first entry because it is forward difference\n",
    "diffSequence = np.append(0,diffSequence)"
   ]
  },
  {
   "cell_type": "code",
   "execution_count": 9,
   "metadata": {},
   "outputs": [
    {
     "data": {
      "text/plain": [
       "array([ 0., -1., -1.,  1.,  0., -1., -1.,  2.,  0.,  0.,  0.,  0.,  0.,\n",
       "        0., -1.,  1., -1.,  2.,  0.,  0.,  0., -2.,  0.,  0.,  0.,  2.,\n",
       "       -2., -1.,  1.,  0.,  0.,  2., -3.,  0.,  1.,  0.,  0.,  2., -2.,\n",
       "        2., -2.,  0.,  0.,  0., -1.,  2., -2.,  2.,  0.,  0.,  0., -1.,\n",
       "        1., -2.,  2.,  0.,  0.,  0., -2.,  1.,  0.,  1.,  1., -3.,  3.,\n",
       "        0., -1.,  1., -1., -1.])"
      ]
     },
     "execution_count": 9,
     "metadata": {},
     "output_type": "execute_result"
    }
   ],
   "source": [
    "diffSequence"
   ]
  },
  {
   "cell_type": "code",
   "execution_count": 10,
   "metadata": {},
   "outputs": [],
   "source": [
    "#Find the locations where we have transitions and conservation of the \"winning\" nucleotide\n",
    "transitionsBase = abs(diffSequence)>0\n",
    "conservationBase = ~transitionsBase\n",
    "\n",
    "#Keep only the transitions or the conservations from the normalized intensities\n",
    "secondHighestIntensityOnTransitions = sortedNormArrayObservedSeqInput[2,:]*transitionsBase\n",
    "secondHighestIntensityOnConservation = sortedNormArrayObservedSeqInput[2,:]*conservationBase\n",
    "\n",
    "#Remove the zeros \n",
    "transitionsBases = secondHighestIntensityOnTransitions[secondHighestIntensityOnTransitions != 0]\n",
    "conservationBases = secondHighestIntensityOnConservation[secondHighestIntensityOnConservation != 0]"
   ]
  },
  {
   "cell_type": "code",
   "execution_count": 11,
   "metadata": {},
   "outputs": [
    {
     "name": "stdout",
     "output_type": "stream",
     "text": [
      "[[0.25365355065696693, 0.1344846522703113], [0.06172225154975606, 0.039642636818400134]]\n"
     ]
    }
   ],
   "source": [
    "#Compute 1st order statistics\n",
    "finalAnalysisResult = [[np.mean(transitionsBases), np.std(transitionsBases)],[np.mean(conservationBases), np.std(conservationBases)]]\n",
    "print(finalAnalysisResult)"
   ]
  },
  {
   "cell_type": "code",
   "execution_count": null,
   "metadata": {},
   "outputs": [],
   "source": []
  }
 ],
 "metadata": {
  "kernelspec": {
   "display_name": "Python 3",
   "language": "python",
   "name": "python3"
  },
  "language_info": {
   "codemirror_mode": {
    "name": "ipython",
    "version": 3
   },
   "file_extension": ".py",
   "mimetype": "text/x-python",
   "name": "python",
   "nbconvert_exporter": "python",
   "pygments_lexer": "ipython3",
   "version": "3.8.2"
  }
 },
 "nbformat": 4,
 "nbformat_minor": 1
}
